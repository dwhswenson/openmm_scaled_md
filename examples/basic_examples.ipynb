{
 "cells": [
  {
   "cell_type": "code",
   "execution_count": 1,
   "metadata": {},
   "outputs": [],
   "source": [
    "import openmm_scaled_md as scaled\n",
    "import simtk.openmm as mm\n",
    "from simtk.openmm import app\n",
    "from simtk import unit"
   ]
  },
  {
   "cell_type": "markdown",
   "metadata": {},
   "source": [
    "This will include several versions of setup, depending on where you're getting the initial conditions. You'll see that in all cases, the process of running the simulation is about the same. There are only small differences in how we set up the `system` object.\n",
    "\n",
    "For more details on how to set up OpenMM simulations, see http://builder.openmm.org/."
   ]
  },
  {
   "cell_type": "markdown",
   "metadata": {},
   "source": [
    "### First version: Using `openmmtools.test_systems`"
   ]
  },
  {
   "cell_type": "code",
   "execution_count": 2,
   "metadata": {},
   "outputs": [],
   "source": [
    "# load information about the system\n",
    "import openmmtools\n",
    "alanine = openmmtools.testsystems.AlanineDipeptideExplicit()"
   ]
  },
  {
   "cell_type": "code",
   "execution_count": 3,
   "metadata": {},
   "outputs": [],
   "source": [
    "# this is the only place we use the openmm_scaled_md \n",
    "testsys_integrator = scaled.integrators.VVVRIntegrator(\n",
    "    temperature=300.0*unit.kelvin,\n",
    "    collision_rate=1.0/unit.picosecond,\n",
    "    timestep=2.0*unit.femtosecond,\n",
    "    force_scaling=0.6\n",
    ")\n",
    "# could also use LangevinIntegrator or BAOABIntegrator"
   ]
  },
  {
   "cell_type": "code",
   "execution_count": 4,
   "metadata": {},
   "outputs": [],
   "source": [
    "# assemble the simulation object\n",
    "testsys_sim = app.Simulation(topology=alanine.topology,\n",
    "                             system=alanine.system,\n",
    "                             integrator=testsys_integrator)\n",
    "testsys_sim.context.setPositions(alanine.positions)\n",
    "# output every 10th frame to DCD\n",
    "testsys_sim.reporters.append(app.DCDReporter('testsys.dcd', 10))"
   ]
  },
  {
   "cell_type": "markdown",
   "metadata": {},
   "source": [
    "Note that this cheats a little, because really we should energy minimize/equilibrate, but we don't bother here. Run for 1000 steps, giving 100 frames."
   ]
  },
  {
   "cell_type": "code",
   "execution_count": 5,
   "metadata": {},
   "outputs": [],
   "source": [
    "testsys_sim.step(1000)"
   ]
  },
  {
   "cell_type": "markdown",
   "metadata": {},
   "source": [
    "### Second version: Using a PDB file\n",
    "\n",
    "This assumes that the PDB represents solvated and equilibrated initial conditions.\n",
    "\n",
    "Download `AD_initial_frame.pdb` from: https://raw.githubusercontent.com/openpathsampling/openpathsampling/master/examples/resources/AD_initial_frame.pdb"
   ]
  },
  {
   "cell_type": "code",
   "execution_count": 6,
   "metadata": {},
   "outputs": [],
   "source": [
    "pdb = app.PDBFile('AD_initial_frame.pdb')\n",
    "forcefield = app.ForceField('amber96.xml', 'tip3p.xml')\n",
    "\n",
    "pdb_system = forcefield.createSystem(pdb.topology,\n",
    "                                     nonbondedMethod=app.PME, \n",
    "                                     nonbondedCutoff=1.0*unit.nanometers,\n",
    "                                     constraints=app.HBonds,\n",
    "                                     rigidWater=True,\n",
    "                                     ewaldErrorTolerance=0.0005)"
   ]
  },
  {
   "cell_type": "code",
   "execution_count": 7,
   "metadata": {},
   "outputs": [],
   "source": [
    "# this is the only place we use the openmm_scaled_md \n",
    "pdb_integrator = scaled.integrators.VVVRIntegrator(\n",
    "    temperature=300.0*unit.kelvin,\n",
    "    collision_rate=1.0/unit.picosecond,\n",
    "    timestep=2.0*unit.femtosecond,\n",
    "    force_scaling=0.6\n",
    ")\n",
    "# could also use BAOABIntegrator"
   ]
  },
  {
   "cell_type": "code",
   "execution_count": 8,
   "metadata": {},
   "outputs": [],
   "source": [
    "pdb_sim = app.Simulation(pdb.topology, pdb_system, pdb_integrator)\n",
    "pdb_sim.context.setPositions(pdb.positions)\n",
    "pdb_sim.reporters.append(app.DCDReporter('from_pdb.dcd', 10))"
   ]
  },
  {
   "cell_type": "code",
   "execution_count": 9,
   "metadata": {},
   "outputs": [],
   "source": [
    "pdb_sim.step(1000)"
   ]
  },
  {
   "cell_type": "markdown",
   "metadata": {},
   "source": [
    "### Third version: Using a Gromacs `.gro` file"
   ]
  },
  {
   "cell_type": "code",
   "execution_count": 10,
   "metadata": {},
   "outputs": [],
   "source": [
    "gro = app.GromacsGroFile('AD_initial_frame.gro')\n",
    "box_vectors = mm.Vec3(*gro.getPeriodicBoxVectors())\n",
    "top = app.GromacsTopFile('AD.top', periodicBoxVectors=box_vectors)"
   ]
  },
  {
   "cell_type": "code",
   "execution_count": 11,
   "metadata": {},
   "outputs": [],
   "source": [
    "gro_system = top.createSystem(nonbondedMethod=app.PME,\n",
    "                              nonbondedCutoff=1.0*unit.nanometers,\n",
    "                              constraints=app.HBonds,\n",
    "                              rigidWater=True,\n",
    "                              ewaldErrorTolerance=0.0005)"
   ]
  },
  {
   "cell_type": "code",
   "execution_count": 12,
   "metadata": {},
   "outputs": [],
   "source": [
    "# this is the only place we use the openmm_scaled_md \n",
    "gro_integrator = scaled.integrators.VVVRIntegrator(\n",
    "    temperature=300.0*unit.kelvin,\n",
    "    collision_rate=1.0/unit.picosecond,\n",
    "    timestep=2.0*unit.femtosecond,\n",
    "    force_scaling=0.6\n",
    ")\n",
    "# could also use LangevinIntegrator or BAOABIntegrator"
   ]
  },
  {
   "cell_type": "code",
   "execution_count": 13,
   "metadata": {},
   "outputs": [],
   "source": [
    "gro_sim = app.Simulation(top.topology, gro_system, gro_integrator)\n",
    "gro_sim.context.setPositions(gro.positions)\n",
    "gro_sim.reporters.append(app.DCDReporter('from_gro.dcd', 10))"
   ]
  },
  {
   "cell_type": "code",
   "execution_count": 14,
   "metadata": {},
   "outputs": [],
   "source": [
    "gro_sim.step(1000)"
   ]
  }
 ],
 "metadata": {
  "kernelspec": {
   "display_name": "Python 2",
   "language": "python",
   "name": "python2"
  },
  "language_info": {
   "codemirror_mode": {
    "name": "ipython",
    "version": 2
   },
   "file_extension": ".py",
   "mimetype": "text/x-python",
   "name": "python",
   "nbconvert_exporter": "python",
   "pygments_lexer": "ipython2",
   "version": "2.7.14"
  }
 },
 "nbformat": 4,
 "nbformat_minor": 2
}
