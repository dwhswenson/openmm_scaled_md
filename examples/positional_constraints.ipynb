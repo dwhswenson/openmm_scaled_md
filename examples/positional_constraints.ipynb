{
 "cells": [
  {
   "cell_type": "markdown",
   "metadata": {},
   "source": [
    "# Constrained positions in OpenMM\n",
    "\n",
    "This notebook shows how to constrain the absolute positions of some atoms (i.e., lock some atoms -- in this case, backbone carbons -- to their original coordinates)."
   ]
  },
  {
   "cell_type": "code",
   "execution_count": 1,
   "metadata": {},
   "outputs": [],
   "source": [
    "import openmm_scaled_md as scaled\n",
    "import simtk.openmm as mm\n",
    "from simtk.openmm import app\n",
    "from simtk import unit\n",
    "\n",
    "import mdtraj as md"
   ]
  },
  {
   "cell_type": "code",
   "execution_count": 2,
   "metadata": {},
   "outputs": [],
   "source": [
    "pdb = app.PDBFile('AD_initial_frame.pdb')\n",
    "forcefield = app.ForceField('amber96.xml', 'tip3p.xml')\n",
    "\n",
    "pdb_system = forcefield.createSystem(pdb.topology,\n",
    "                                     nonbondedMethod=app.PME, \n",
    "                                     nonbondedCutoff=1.0*unit.nanometers,\n",
    "                                     constraints=None, # None due to pos constraints\n",
    "                                     rigidWater=True,\n",
    "                                     ewaldErrorTolerance=0.0005)"
   ]
  },
  {
   "cell_type": "markdown",
   "metadata": {},
   "source": [
    "The first two cells are similar to what we already would have done to set up the system, although we can't use constraints (of the SHAKE style) in combination with absolute position constraints, so our constraints are `None`.\n",
    "\n",
    "The next cells add positional constraints. We'll use [MDTraj's atom selection language](http://mdtraj.org/latest/atom_selection.html) to select atoms; this *does* assume that MDTraj does not change the atom ordering scheme when creating an `mdtraj.Topology` from an `openmm.app.Topology`."
   ]
  },
  {
   "cell_type": "code",
   "execution_count": 3,
   "metadata": {},
   "outputs": [],
   "source": [
    "# we use MDTraj to intelligently select the atoms we want (carbon backbone)\n",
    "topology = md.Topology.from_openmm(pdb.topology)\n",
    "pos_constrained_atoms = topology.select(\"element == 'C' and backbone\")"
   ]
  },
  {
   "cell_type": "code",
   "execution_count": 4,
   "metadata": {},
   "outputs": [],
   "source": [
    "# == OPTIONAL ==\n",
    "\n",
    "# density or other info in reporters might need true mass, so we save that before changing it\n",
    "true_mass = sum([pdb_system.getParticleMass(a_idx)\n",
    "                 for a_idx in range(pdb_system.getNumParticles())], \n",
    "                0.0*unit.dalton)\n",
    "\n",
    "# save individual true masses in case we want to set them back later\n",
    "individual_true_masses = {a_idx: pdb_system.getParticleMass(a_idx)\n",
    "                          for a_idx in pos_constrained_atoms}"
   ]
  },
  {
   "cell_type": "code",
   "execution_count": 5,
   "metadata": {},
   "outputs": [],
   "source": [
    "# constrain by setting mass to zero\n",
    "for a_idx in pos_constrained_atoms:\n",
    "    pdb_system.setParticleMass(a_idx, 0.0*unit.dalton)"
   ]
  },
  {
   "cell_type": "markdown",
   "metadata": {},
   "source": [
    "### Running with constrained absolute positions\n",
    "\n",
    "Now we'll create a trajectory that uses this system for dynamics. Getting the `simulation` object and using it to run MD is the same as is normally done."
   ]
  },
  {
   "cell_type": "code",
   "execution_count": 6,
   "metadata": {},
   "outputs": [],
   "source": [
    "# this is equivalent to the standard BAOAB integrator, since force_scaling is 1\n",
    "integrator = scaled.integrators.BAOABIntegrator(\n",
    "    temperature=300.0*unit.kelvin,\n",
    "    collision_rate=1.0/unit.picosecond,\n",
    "    timestep=2.0*unit.femtosecond,\n",
    "    force_scaling=1.0\n",
    ")"
   ]
  },
  {
   "cell_type": "code",
   "execution_count": 7,
   "metadata": {},
   "outputs": [],
   "source": [
    "sim = app.Simulation(pdb.topology, pdb_system, integrator)\n",
    "sim.context.setPositions(pdb.positions)\n",
    "sim.reporters.append(app.PDBReporter('position_constrained.pdb', 10))"
   ]
  },
  {
   "cell_type": "code",
   "execution_count": 8,
   "metadata": {},
   "outputs": [],
   "source": [
    "sim.step(1000)"
   ]
  },
  {
   "cell_type": "markdown",
   "metadata": {},
   "source": [
    "### Visualizing with NGLView\n",
    "\n",
    "If you also have [NGLView](http://nglviewer.org/nglview/latest/) installed, you can visualize the trajectory in-notebook."
   ]
  },
  {
   "cell_type": "code",
   "execution_count": 9,
   "metadata": {},
   "outputs": [],
   "source": [
    "import nglview as nv\n",
    "traj = md.load(\"./position_constrained.pdb\")"
   ]
  },
  {
   "cell_type": "code",
   "execution_count": 15,
   "metadata": {},
   "outputs": [
    {
     "data": {
      "application/vnd.jupyter.widget-view+json": {
       "model_id": "192c2823372942c0a737b6ffdd4fd984",
       "version_major": 2,
       "version_minor": 0
      },
      "text/html": [
       "<p>Failed to display Jupyter Widget of type <code>NGLWidget</code>.</p>\n",
       "<p>\n",
       "  If you're reading this message in the Jupyter Notebook or JupyterLab Notebook, it may mean\n",
       "  that the widgets JavaScript is still loading. If this message persists, it\n",
       "  likely means that the widgets JavaScript library is either not installed or\n",
       "  not enabled. See the <a href=\"https://ipywidgets.readthedocs.io/en/stable/user_install.html\">Jupyter\n",
       "  Widgets Documentation</a> for setup instructions.\n",
       "</p>\n",
       "<p>\n",
       "  If you're reading this message in another frontend (for example, a static\n",
       "  rendering on GitHub or <a href=\"https://nbviewer.jupyter.org/\">NBViewer</a>),\n",
       "  it may mean that your frontend doesn't currently support widgets.\n",
       "</p>\n"
      ],
      "text/plain": [
       "NGLWidget(count=100)"
      ]
     },
     "metadata": {},
     "output_type": "display_data"
    }
   ],
   "source": [
    "view = nv.show_mdtraj(traj)\n",
    "view.add_ball_and_stick(\"ACE ALA NME\")\n",
    "view.add_point(\"water and .O\")\n",
    "view"
   ]
  },
  {
   "cell_type": "markdown",
   "metadata": {},
   "source": [
    "In this, it is clear that the 4 backbone carbons (the methyl carbon in NME, both backbone carbons in ALA, and the carbonyl carbon in ACE) stay in a fixed position, while everything else moves."
   ]
  },
  {
   "cell_type": "code",
   "execution_count": null,
   "metadata": {},
   "outputs": [],
   "source": []
  }
 ],
 "metadata": {
  "kernelspec": {
   "display_name": "Python 2",
   "language": "python",
   "name": "python2"
  },
  "language_info": {
   "codemirror_mode": {
    "name": "ipython",
    "version": 2
   },
   "file_extension": ".py",
   "mimetype": "text/x-python",
   "name": "python",
   "nbconvert_exporter": "python",
   "pygments_lexer": "ipython2",
   "version": "2.7.15"
  }
 },
 "nbformat": 4,
 "nbformat_minor": 2
}
