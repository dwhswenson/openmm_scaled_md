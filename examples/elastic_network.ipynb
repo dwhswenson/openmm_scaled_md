{
 "cells": [
  {
   "cell_type": "markdown",
   "metadata": {},
   "source": [
    "# Elastic network (harmonic springs) in OpenMM\n",
    "\n",
    "This network shows how to add harmonic restraints between different atoms in OpenMM. In this case, we'll tie backbone atoms to the \"$i+2$\" backbone atom (i.e., next-nearest neighbor; nearest backbone atom not already bonded to this one)."
   ]
  },
  {
   "cell_type": "code",
   "execution_count": 1,
   "metadata": {},
   "outputs": [],
   "source": [
    "import openmm_scaled_md as scaled\n",
    "import simtk.openmm as mm\n",
    "from simtk.openmm import app\n",
    "from simtk import unit\n",
    "\n",
    "import mdtraj as md"
   ]
  },
  {
   "cell_type": "code",
   "execution_count": 2,
   "metadata": {},
   "outputs": [],
   "source": [
    "pdb_file = '../resources/AD_initial_frame.pdb'\n",
    "pdb = app.PDBFile(pdb_file)\n",
    "forcefield = app.ForceField('amber96.xml', 'tip3p.xml')\n",
    "\n",
    "pdb_system = forcefield.createSystem(pdb.topology,\n",
    "                                     nonbondedMethod=app.PME, \n",
    "                                     nonbondedCutoff=1.0*unit.nanometers,\n",
    "                                     constraints=app.HBonds,\n",
    "                                     rigidWater=True,\n",
    "                                     ewaldErrorTolerance=0.0005)"
   ]
  },
  {
   "cell_type": "markdown",
   "metadata": {},
   "source": [
    "The first two cells are identical to the normal setup.\n",
    "\n",
    "The next cells add restraints on the absolute positions. We'll use [MDTraj's atom selection language](http://mdtraj.org/latest/atom_selection.html) to select atoms; this *does* assume that MDTraj does not change the atom ordering scheme when creating an `mdtraj.Topology` from an `openmm.app.Topology`. We'll also assume that we want to restrain to the distances as given in the PDB."
   ]
  },
  {
   "cell_type": "code",
   "execution_count": 3,
   "metadata": {},
   "outputs": [],
   "source": [
    "topology = md.Topology.from_openmm(pdb.topology)\n",
    "pos_restrained_atoms = topology.select(\"backbone\")"
   ]
  },
  {
   "cell_type": "code",
   "execution_count": 4,
   "metadata": {},
   "outputs": [],
   "source": [
    "atom_pairs = [(pos_restrained_atoms[i], pos_restrained_atoms[i+2])\n",
    "              for i in range(len(pos_restrained_atoms)-2)]"
   ]
  },
  {
   "cell_type": "code",
   "execution_count": 5,
   "metadata": {},
   "outputs": [],
   "source": [
    "# calculate the distances based on the PDB file\n",
    "traj = md.load(pdb_file)\n",
    "default_distances = md.compute_distances(traj, atom_pairs=atom_pairs)[0]  # first frame in traj"
   ]
  },
  {
   "cell_type": "code",
   "execution_count": 6,
   "metadata": {},
   "outputs": [
    {
     "data": {
      "text/plain": [
       "5"
      ]
     },
     "execution_count": 6,
     "metadata": {},
     "output_type": "execute_result"
    }
   ],
   "source": [
    "elastic_network = mm.HarmonicBondForce()\n",
    "length_unit = unit.nanometer\n",
    "energy_unit = unit.kilojoule_per_mole\n",
    "for ((atom_a, atom_b), r_0) in zip(atom_pairs, default_distances):\n",
    "    elastic_network.addBond(atom_a, atom_b, \n",
    "                            length=float(r_0)*length_unit, \n",
    "                            k=5.0*energy_unit/length_unit**2)\n",
    "pdb_system.addForce(elastic_network)"
   ]
  },
  {
   "cell_type": "markdown",
   "metadata": {},
   "source": [
    "### Running with an elastic network\n",
    "\n",
    "Now we'll create a trajectory that uses this system for dynamics. Getting the `simulation` object and using it to run MD is the same as is normally done."
   ]
  },
  {
   "cell_type": "code",
   "execution_count": 7,
   "metadata": {},
   "outputs": [],
   "source": [
    "# this is equivalent to the standard BAOAB integrator, since force_scaling is 1\n",
    "integrator = scaled.integrators.BAOABIntegrator(\n",
    "    temperature=300.0*unit.kelvin,\n",
    "    collision_rate=1.0/unit.picosecond,\n",
    "    timestep=2.0*unit.femtosecond,\n",
    "    force_scaling=1.0\n",
    ")"
   ]
  },
  {
   "cell_type": "code",
   "execution_count": 8,
   "metadata": {},
   "outputs": [],
   "source": [
    "sim = app.Simulation(pdb.topology, pdb_system, integrator)\n",
    "sim.context.setPositions(pdb.positions)\n",
    "sim.reporters.append(app.PDBReporter('elastic_network.pdb', 10))"
   ]
  },
  {
   "cell_type": "code",
   "execution_count": 9,
   "metadata": {},
   "outputs": [],
   "source": [
    "sim.step(1000)"
   ]
  },
  {
   "cell_type": "markdown",
   "metadata": {},
   "source": [
    "### Visualizing with NGLView\n",
    "\n",
    "If you also have [NGLView](http://nglviewer.org/nglview/latest/) installed, you can visualize the trajectory in-notebook."
   ]
  },
  {
   "cell_type": "code",
   "execution_count": 10,
   "metadata": {},
   "outputs": [],
   "source": [
    "import nglview as nv\n",
    "traj = md.load(\"./elastic_network.pdb\")"
   ]
  },
  {
   "cell_type": "code",
   "execution_count": 11,
   "metadata": {},
   "outputs": [
    {
     "data": {
      "application/vnd.jupyter.widget-view+json": {
       "model_id": "3def6c38fdf94e7c9e5a031198f86e3d",
       "version_major": 2,
       "version_minor": 0
      },
      "text/plain": [
       "NGLWidget(count=100)"
      ]
     },
     "metadata": {},
     "output_type": "display_data"
    }
   ],
   "source": [
    "view = nv.show_mdtraj(traj)\n",
    "view.add_ball_and_stick(\"ACE ALA NME\")\n",
    "view.add_point(\"water and .O\")\n",
    "view"
   ]
  },
  {
   "cell_type": "code",
   "execution_count": null,
   "metadata": {},
   "outputs": [],
   "source": []
  }
 ],
 "metadata": {
  "kernelspec": {
   "display_name": "Python 2",
   "language": "python",
   "name": "python2"
  },
  "language_info": {
   "codemirror_mode": {
    "name": "ipython",
    "version": 2
   },
   "file_extension": ".py",
   "mimetype": "text/x-python",
   "name": "python",
   "nbconvert_exporter": "python",
   "pygments_lexer": "ipython2",
   "version": "2.7.15"
  }
 },
 "nbformat": 4,
 "nbformat_minor": 2
}
