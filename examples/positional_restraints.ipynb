{
 "cells": [
  {
   "cell_type": "markdown",
   "metadata": {},
   "source": [
    "# Restrained positions in OpenMM\n",
    "\n",
    "This notebook shows how to add soft (harmonic) restraints to the absolute positions of some atoms -- in this case, the backbone carbons.\n",
    "\n",
    "Much of this setup is based on https://github.com/ParmEd/ParmEd/wiki/OpenMM-Tricks-and-Recipes#positional-restraints"
   ]
  },
  {
   "cell_type": "code",
   "execution_count": 1,
   "metadata": {},
   "outputs": [],
   "source": [
    "import openmm_scaled_md as scaled\n",
    "import simtk.openmm as mm\n",
    "from simtk.openmm import app\n",
    "from simtk import unit\n",
    "\n",
    "import mdtraj as md"
   ]
  },
  {
   "cell_type": "code",
   "execution_count": 2,
   "metadata": {},
   "outputs": [],
   "source": [
    "pdb = app.PDBFile('../resources/AD_initial_frame.pdb')\n",
    "forcefield = app.ForceField('amber96.xml', 'tip3p.xml')\n",
    "\n",
    "pdb_system = forcefield.createSystem(pdb.topology,\n",
    "                                     nonbondedMethod=app.PME, \n",
    "                                     nonbondedCutoff=1.0*unit.nanometers,\n",
    "                                     constraints=app.HBonds,\n",
    "                                     rigidWater=True,\n",
    "                                     ewaldErrorTolerance=0.0005)"
   ]
  },
  {
   "cell_type": "markdown",
   "metadata": {},
   "source": [
    "The first two cells are identical to the normal setup.\n",
    "\n",
    "The next cells add restraints on the absolute positions. We'll use [MDTraj's atom selection language](http://mdtraj.org/latest/atom_selection.html) to select atoms; this *does* assume that MDTraj does not change the atom ordering scheme when creating an `mdtraj.Topology` from an `openmm.app.Topology`. We'll also assume that we want to restrain to the absolute positions as given in the PDB."
   ]
  },
  {
   "cell_type": "code",
   "execution_count": 3,
   "metadata": {},
   "outputs": [],
   "source": [
    "# we use MDTraj to intelligently select the atoms we want (carbon backbone)\n",
    "topology = md.Topology.from_openmm(pdb.topology)\n",
    "pos_restrained_atoms = topology.select(\"element == 'C' and backbone\")"
   ]
  },
  {
   "cell_type": "code",
   "execution_count": 4,
   "metadata": {},
   "outputs": [
    {
     "data": {
      "text/plain": [
       "5"
      ]
     },
     "execution_count": 4,
     "metadata": {},
     "output_type": "execute_result"
    }
   ],
   "source": [
    "# this is the stuff specific to positional restraints\n",
    "force_constant = 5.0\n",
    "force_unit = unit.kilocalories_per_mole / unit.angstroms**2\n",
    "force = mm.CustomExternalForce(\"k*((x-x0)^2+(y-y0)^2+(z-z0)^2)\")\n",
    "force.addGlobalParameter(\"k\", force_constant*force_unit)\n",
    "force.addPerParticleParameter(\"x0\")\n",
    "force.addPerParticleParameter(\"y0\")\n",
    "force.addPerParticleParameter(\"z0\")\n",
    "for a_idx in pos_restrained_atoms:\n",
    "    init_pos = pdb.positions.value_in_unit(unit.nanometer)[a_idx]\n",
    "    force.addParticle(a_idx, init_pos)\n",
    "pdb_system.addForce(force)\n",
    "# returns the index of the force"
   ]
  },
  {
   "cell_type": "markdown",
   "metadata": {},
   "source": [
    "### Running with restrained absolute positions\n",
    "\n",
    "Now we'll create a trajectory that uses this system for dynamics. Getting the `simulation` object and using it to run MD is the same as is normally done."
   ]
  },
  {
   "cell_type": "code",
   "execution_count": 5,
   "metadata": {},
   "outputs": [],
   "source": [
    "# this is equivalent to the standard BAOAB integrator, since force_scaling is 1\n",
    "integrator = scaled.integrators.BAOABIntegrator(\n",
    "    temperature=300.0*unit.kelvin,\n",
    "    collision_rate=1.0/unit.picosecond,\n",
    "    timestep=2.0*unit.femtosecond,\n",
    "    force_scaling=1.0\n",
    ")"
   ]
  },
  {
   "cell_type": "code",
   "execution_count": 6,
   "metadata": {},
   "outputs": [],
   "source": [
    "sim = app.Simulation(pdb.topology, pdb_system, integrator)\n",
    "sim.context.setPositions(pdb.positions)\n",
    "sim.reporters.append(app.PDBReporter('position_restrained.pdb', 10))"
   ]
  },
  {
   "cell_type": "code",
   "execution_count": 7,
   "metadata": {},
   "outputs": [],
   "source": [
    "sim.step(1000)"
   ]
  },
  {
   "cell_type": "markdown",
   "metadata": {},
   "source": [
    "### Visualizing with NGLView\n",
    "\n",
    "If you also have [NGLView](http://nglviewer.org/nglview/latest/) installed, you can visualize the trajectory in-notebook."
   ]
  },
  {
   "cell_type": "code",
   "execution_count": 8,
   "metadata": {},
   "outputs": [],
   "source": [
    "import nglview as nv\n",
    "traj = md.load(\"./position_restrained.pdb\")"
   ]
  },
  {
   "cell_type": "code",
   "execution_count": 9,
   "metadata": {},
   "outputs": [
    {
     "data": {
      "application/vnd.jupyter.widget-view+json": {
       "model_id": "96e7ae9cf75849d88e259a67dc4bed5d",
       "version_major": 2,
       "version_minor": 0
      },
      "text/plain": [
       "NGLWidget(count=100)"
      ]
     },
     "metadata": {},
     "output_type": "display_data"
    }
   ],
   "source": [
    "view = nv.show_mdtraj(traj)\n",
    "view.add_ball_and_stick(\"ACE ALA NME\")\n",
    "view.add_point(\"water and .O\")\n",
    "view"
   ]
  },
  {
   "cell_type": "code",
   "execution_count": null,
   "metadata": {},
   "outputs": [],
   "source": []
  }
 ],
 "metadata": {
  "kernelspec": {
   "display_name": "Python 2",
   "language": "python",
   "name": "python2"
  },
  "language_info": {
   "codemirror_mode": {
    "name": "ipython",
    "version": 2
   },
   "file_extension": ".py",
   "mimetype": "text/x-python",
   "name": "python",
   "nbconvert_exporter": "python",
   "pygments_lexer": "ipython2",
   "version": "2.7.15"
  }
 },
 "nbformat": 4,
 "nbformat_minor": 2
}
